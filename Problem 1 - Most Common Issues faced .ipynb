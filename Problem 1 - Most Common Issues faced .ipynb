{
 "cells": [
  {
   "cell_type": "code",
   "execution_count": 44,
   "id": "5a89bd47-80c5-46b7-be40-1f377132769a",
   "metadata": {},
   "outputs": [],
   "source": [
    "# Data handling\n",
    "import pandas as pd\n",
    "# NLP tools\n",
    "import nltk\n",
    "from nltk.corpus import stopwords\n",
    "from nltk.tokenize import word_tokenize\n",
    "from nltk.stem import WordNetLemmatizer\n",
    "# Vectorization & Topic Modeling\n",
    "from sklearn.feature_extraction.text import TfidfVectorizer\n",
    "from sklearn.decomposition import NMF\n",
    "# Misc utilities\n",
    "from collections import Counter\n",
    "import re\n",
    "import spacy\n",
    "from tqdm.auto import tqdm\n",
    "# Transformers for advanced summarization or classification\n",
    "from transformers import pipeline"
   ]
  },
  {
   "cell_type": "code",
   "execution_count": 2,
   "id": "12de3e10-fa34-4666-bda2-65d2700bc12c",
   "metadata": {},
   "outputs": [],
   "source": [
    "## Loading Fitbit review dataset into a pandas DataFrame\n",
    "df = pd.read_csv('fitbit.csv')"
   ]
  },
  {
   "cell_type": "code",
   "execution_count": 3,
   "id": "f3ad8d4e-aeb5-4e5c-9e36-2ff1035ec9fb",
   "metadata": {},
   "outputs": [
    {
     "data": {
      "text/html": [
       "<div>\n",
       "<style scoped>\n",
       "    .dataframe tbody tr th:only-of-type {\n",
       "        vertical-align: middle;\n",
       "    }\n",
       "\n",
       "    .dataframe tbody tr th {\n",
       "        vertical-align: top;\n",
       "    }\n",
       "\n",
       "    .dataframe thead th {\n",
       "        text-align: right;\n",
       "    }\n",
       "</style>\n",
       "<table border=\"1\" class=\"dataframe\">\n",
       "  <thead>\n",
       "    <tr style=\"text-align: right;\">\n",
       "      <th></th>\n",
       "      <th>Unnamed: 0</th>\n",
       "      <th>source</th>\n",
       "      <th>review_id</th>\n",
       "      <th>user_name</th>\n",
       "      <th>review_title</th>\n",
       "      <th>review_description</th>\n",
       "      <th>rating</th>\n",
       "      <th>thumbs_up</th>\n",
       "      <th>review_date</th>\n",
       "    </tr>\n",
       "  </thead>\n",
       "  <tbody>\n",
       "    <tr>\n",
       "      <th>0</th>\n",
       "      <td>0</td>\n",
       "      <td>Google Play</td>\n",
       "      <td>b52e6513-a955-438a-a048-4ae5e1e81abb</td>\n",
       "      <td>Marlena H.</td>\n",
       "      <td>NaN</td>\n",
       "      <td>Horrible change not allowing group challenges</td>\n",
       "      <td>2</td>\n",
       "      <td>0</td>\n",
       "      <td>4/17/2023 15:55</td>\n",
       "    </tr>\n",
       "    <tr>\n",
       "      <th>1</th>\n",
       "      <td>1</td>\n",
       "      <td>Google Play</td>\n",
       "      <td>d88c0a81-2611-4f53-b0c4-8f1a2442b6ac</td>\n",
       "      <td>Jeremy Chandler</td>\n",
       "      <td>NaN</td>\n",
       "      <td>Google already starting to sunset features and...</td>\n",
       "      <td>2</td>\n",
       "      <td>0</td>\n",
       "      <td>4/17/2023 15:39</td>\n",
       "    </tr>\n",
       "    <tr>\n",
       "      <th>2</th>\n",
       "      <td>2</td>\n",
       "      <td>Google Play</td>\n",
       "      <td>22205257-f36d-464d-ba47-4ef7283071a3</td>\n",
       "      <td>Stu McConnell</td>\n",
       "      <td>NaN</td>\n",
       "      <td>Whatever you have done with the latest update ...</td>\n",
       "      <td>1</td>\n",
       "      <td>0</td>\n",
       "      <td>4/17/2023 15:15</td>\n",
       "    </tr>\n",
       "    <tr>\n",
       "      <th>3</th>\n",
       "      <td>3</td>\n",
       "      <td>Google Play</td>\n",
       "      <td>c975c4ab-1a72-4e0f-a579-021ffbbe2d50</td>\n",
       "      <td>Emer Waters</td>\n",
       "      <td>NaN</td>\n",
       "      <td>Challenges with friends/family were removed, s...</td>\n",
       "      <td>1</td>\n",
       "      <td>0</td>\n",
       "      <td>4/17/2023 14:59</td>\n",
       "    </tr>\n",
       "    <tr>\n",
       "      <th>4</th>\n",
       "      <td>4</td>\n",
       "      <td>Google Play</td>\n",
       "      <td>17ae54ba-9a79-4ba4-9ad2-a0b1020e6290</td>\n",
       "      <td>erica potts</td>\n",
       "      <td>NaN</td>\n",
       "      <td>Helpful for me to keep track of my steps</td>\n",
       "      <td>5</td>\n",
       "      <td>0</td>\n",
       "      <td>4/17/2023 14:51</td>\n",
       "    </tr>\n",
       "  </tbody>\n",
       "</table>\n",
       "</div>"
      ],
      "text/plain": [
       "   Unnamed: 0       source                             review_id  \\\n",
       "0           0  Google Play  b52e6513-a955-438a-a048-4ae5e1e81abb   \n",
       "1           1  Google Play  d88c0a81-2611-4f53-b0c4-8f1a2442b6ac   \n",
       "2           2  Google Play  22205257-f36d-464d-ba47-4ef7283071a3   \n",
       "3           3  Google Play  c975c4ab-1a72-4e0f-a579-021ffbbe2d50   \n",
       "4           4  Google Play  17ae54ba-9a79-4ba4-9ad2-a0b1020e6290   \n",
       "\n",
       "         user_name  review_title  \\\n",
       "0       Marlena H.           NaN   \n",
       "1  Jeremy Chandler           NaN   \n",
       "2    Stu McConnell           NaN   \n",
       "3      Emer Waters           NaN   \n",
       "4      erica potts           NaN   \n",
       "\n",
       "                                  review_description  rating  thumbs_up  \\\n",
       "0      Horrible change not allowing group challenges       2          0   \n",
       "1  Google already starting to sunset features and...       2          0   \n",
       "2  Whatever you have done with the latest update ...       1          0   \n",
       "3  Challenges with friends/family were removed, s...       1          0   \n",
       "4           Helpful for me to keep track of my steps       5          0   \n",
       "\n",
       "       review_date  \n",
       "0  4/17/2023 15:55  \n",
       "1  4/17/2023 15:39  \n",
       "2  4/17/2023 15:15  \n",
       "3  4/17/2023 14:59  \n",
       "4  4/17/2023 14:51  "
      ]
     },
     "execution_count": 3,
     "metadata": {},
     "output_type": "execute_result"
    }
   ],
   "source": [
    "df.head()"
   ]
  },
  {
   "cell_type": "code",
   "execution_count": 4,
   "id": "a1a495cf-a8a1-4cbd-b5a3-a64edb568f66",
   "metadata": {},
   "outputs": [],
   "source": [
    "#drop unnecessary column or rows\n",
    "df.drop(['source','review_title','review_date'],axis = 1, inplace = True)"
   ]
  },
  {
   "cell_type": "code",
   "execution_count": 5,
   "id": "038474b0-e008-4013-a8a4-36f61965fee8",
   "metadata": {},
   "outputs": [
    {
     "data": {
      "text/html": [
       "<div>\n",
       "<style scoped>\n",
       "    .dataframe tbody tr th:only-of-type {\n",
       "        vertical-align: middle;\n",
       "    }\n",
       "\n",
       "    .dataframe tbody tr th {\n",
       "        vertical-align: top;\n",
       "    }\n",
       "\n",
       "    .dataframe thead th {\n",
       "        text-align: right;\n",
       "    }\n",
       "</style>\n",
       "<table border=\"1\" class=\"dataframe\">\n",
       "  <thead>\n",
       "    <tr style=\"text-align: right;\">\n",
       "      <th></th>\n",
       "      <th>Unnamed: 0</th>\n",
       "      <th>review_id</th>\n",
       "      <th>user_name</th>\n",
       "      <th>review_description</th>\n",
       "      <th>rating</th>\n",
       "      <th>thumbs_up</th>\n",
       "    </tr>\n",
       "  </thead>\n",
       "  <tbody>\n",
       "    <tr>\n",
       "      <th>0</th>\n",
       "      <td>0</td>\n",
       "      <td>b52e6513-a955-438a-a048-4ae5e1e81abb</td>\n",
       "      <td>Marlena H.</td>\n",
       "      <td>Horrible change not allowing group challenges</td>\n",
       "      <td>2</td>\n",
       "      <td>0</td>\n",
       "    </tr>\n",
       "    <tr>\n",
       "      <th>1</th>\n",
       "      <td>1</td>\n",
       "      <td>d88c0a81-2611-4f53-b0c4-8f1a2442b6ac</td>\n",
       "      <td>Jeremy Chandler</td>\n",
       "      <td>Google already starting to sunset features and...</td>\n",
       "      <td>2</td>\n",
       "      <td>0</td>\n",
       "    </tr>\n",
       "    <tr>\n",
       "      <th>2</th>\n",
       "      <td>2</td>\n",
       "      <td>22205257-f36d-464d-ba47-4ef7283071a3</td>\n",
       "      <td>Stu McConnell</td>\n",
       "      <td>Whatever you have done with the latest update ...</td>\n",
       "      <td>1</td>\n",
       "      <td>0</td>\n",
       "    </tr>\n",
       "    <tr>\n",
       "      <th>3</th>\n",
       "      <td>3</td>\n",
       "      <td>c975c4ab-1a72-4e0f-a579-021ffbbe2d50</td>\n",
       "      <td>Emer Waters</td>\n",
       "      <td>Challenges with friends/family were removed, s...</td>\n",
       "      <td>1</td>\n",
       "      <td>0</td>\n",
       "    </tr>\n",
       "    <tr>\n",
       "      <th>4</th>\n",
       "      <td>4</td>\n",
       "      <td>17ae54ba-9a79-4ba4-9ad2-a0b1020e6290</td>\n",
       "      <td>erica potts</td>\n",
       "      <td>Helpful for me to keep track of my steps</td>\n",
       "      <td>5</td>\n",
       "      <td>0</td>\n",
       "    </tr>\n",
       "  </tbody>\n",
       "</table>\n",
       "</div>"
      ],
      "text/plain": [
       "   Unnamed: 0                             review_id        user_name  \\\n",
       "0           0  b52e6513-a955-438a-a048-4ae5e1e81abb       Marlena H.   \n",
       "1           1  d88c0a81-2611-4f53-b0c4-8f1a2442b6ac  Jeremy Chandler   \n",
       "2           2  22205257-f36d-464d-ba47-4ef7283071a3    Stu McConnell   \n",
       "3           3  c975c4ab-1a72-4e0f-a579-021ffbbe2d50      Emer Waters   \n",
       "4           4  17ae54ba-9a79-4ba4-9ad2-a0b1020e6290      erica potts   \n",
       "\n",
       "                                  review_description  rating  thumbs_up  \n",
       "0      Horrible change not allowing group challenges       2          0  \n",
       "1  Google already starting to sunset features and...       2          0  \n",
       "2  Whatever you have done with the latest update ...       1          0  \n",
       "3  Challenges with friends/family were removed, s...       1          0  \n",
       "4           Helpful for me to keep track of my steps       5          0  "
      ]
     },
     "execution_count": 5,
     "metadata": {},
     "output_type": "execute_result"
    }
   ],
   "source": [
    "df.head()"
   ]
  },
  {
   "cell_type": "code",
   "execution_count": 6,
   "id": "502287ce-7e1c-4bc3-a923-c7fe79c61c7a",
   "metadata": {},
   "outputs": [
    {
     "name": "stdout",
     "output_type": "stream",
     "text": [
      "<class 'pandas.core.frame.DataFrame'>\n",
      "RangeIndex: 333491 entries, 0 to 333490\n",
      "Data columns (total 6 columns):\n",
      " #   Column              Non-Null Count   Dtype \n",
      "---  ------              --------------   ----- \n",
      " 0   Unnamed: 0          333491 non-null  int64 \n",
      " 1   review_id           333491 non-null  object\n",
      " 2   user_name           333491 non-null  object\n",
      " 3   review_description  333353 non-null  object\n",
      " 4   rating              333491 non-null  int64 \n",
      " 5   thumbs_up           333491 non-null  int64 \n",
      "dtypes: int64(3), object(3)\n",
      "memory usage: 15.3+ MB\n"
     ]
    }
   ],
   "source": [
    "df.info() #checking the datatypes"
   ]
  },
  {
   "cell_type": "code",
   "execution_count": 7,
   "id": "7aac8b6f-54db-40db-bc9c-d4e19d065b52",
   "metadata": {},
   "outputs": [],
   "source": [
    "df.drop('Unnamed: 0', axis = 1, inplace = True)"
   ]
  },
  {
   "cell_type": "code",
   "execution_count": 8,
   "id": "073e5d7f-1a6e-4d5b-a201-fae5b38f3e84",
   "metadata": {},
   "outputs": [
    {
     "data": {
      "text/plain": [
       "333491"
      ]
     },
     "execution_count": 8,
     "metadata": {},
     "output_type": "execute_result"
    }
   ],
   "source": [
    "df['review_id'].nunique() #getting all the unique values"
   ]
  },
  {
   "cell_type": "code",
   "execution_count": 9,
   "id": "c944a214-7715-47b1-88fb-1972a0130fb9",
   "metadata": {},
   "outputs": [
    {
     "data": {
      "text/plain": [
       "review_id               0\n",
       "user_name               0\n",
       "review_description    138\n",
       "rating                  0\n",
       "thumbs_up               0\n",
       "dtype: int64"
      ]
     },
     "execution_count": 9,
     "metadata": {},
     "output_type": "execute_result"
    }
   ],
   "source": [
    "df.isnull().sum()"
   ]
  },
  {
   "cell_type": "code",
   "execution_count": 10,
   "id": "eeea3f73-3596-4e09-b820-f1dd22ca61f8",
   "metadata": {},
   "outputs": [],
   "source": [
    "df.dropna(inplace = True)"
   ]
  },
  {
   "cell_type": "code",
   "execution_count": 11,
   "id": "34537469-03ff-4b5f-83af-b2d06fb5c785",
   "metadata": {},
   "outputs": [
    {
     "data": {
      "text/plain": [
       "(333353, 5)"
      ]
     },
     "execution_count": 11,
     "metadata": {},
     "output_type": "execute_result"
    }
   ],
   "source": [
    "df.shape"
   ]
  },
  {
   "cell_type": "code",
   "execution_count": 19,
   "id": "695c31e4-9bb9-4d9e-ba0d-18102d6a36d0",
   "metadata": {},
   "outputs": [],
   "source": [
    "df.to_csv('FitBitReviews_updated.csv',index = False)"
   ]
  },
  {
   "cell_type": "code",
   "execution_count": 15,
   "id": "c7133424-ab07-4276-b179-6b55d76d93e1",
   "metadata": {},
   "outputs": [
    {
     "data": {
      "text/html": [
       "<div>\n",
       "<style scoped>\n",
       "    .dataframe tbody tr th:only-of-type {\n",
       "        vertical-align: middle;\n",
       "    }\n",
       "\n",
       "    .dataframe tbody tr th {\n",
       "        vertical-align: top;\n",
       "    }\n",
       "\n",
       "    .dataframe thead th {\n",
       "        text-align: right;\n",
       "    }\n",
       "</style>\n",
       "<table border=\"1\" class=\"dataframe\">\n",
       "  <thead>\n",
       "    <tr style=\"text-align: right;\">\n",
       "      <th></th>\n",
       "      <th>review_id</th>\n",
       "      <th>user_name</th>\n",
       "      <th>review_description</th>\n",
       "      <th>rating</th>\n",
       "      <th>thumbs_up</th>\n",
       "    </tr>\n",
       "  </thead>\n",
       "  <tbody>\n",
       "    <tr>\n",
       "      <th>0</th>\n",
       "      <td>b52e6513-a955-438a-a048-4ae5e1e81abb</td>\n",
       "      <td>Marlena H.</td>\n",
       "      <td>Horrible change not allowing group challenges</td>\n",
       "      <td>2</td>\n",
       "      <td>0</td>\n",
       "    </tr>\n",
       "    <tr>\n",
       "      <th>1</th>\n",
       "      <td>d88c0a81-2611-4f53-b0c4-8f1a2442b6ac</td>\n",
       "      <td>Jeremy Chandler</td>\n",
       "      <td>Google already starting to sunset features and...</td>\n",
       "      <td>2</td>\n",
       "      <td>0</td>\n",
       "    </tr>\n",
       "    <tr>\n",
       "      <th>2</th>\n",
       "      <td>22205257-f36d-464d-ba47-4ef7283071a3</td>\n",
       "      <td>Stu McConnell</td>\n",
       "      <td>Whatever you have done with the latest update ...</td>\n",
       "      <td>1</td>\n",
       "      <td>0</td>\n",
       "    </tr>\n",
       "    <tr>\n",
       "      <th>3</th>\n",
       "      <td>c975c4ab-1a72-4e0f-a579-021ffbbe2d50</td>\n",
       "      <td>Emer Waters</td>\n",
       "      <td>Challenges with friends/family were removed, s...</td>\n",
       "      <td>1</td>\n",
       "      <td>0</td>\n",
       "    </tr>\n",
       "    <tr>\n",
       "      <th>4</th>\n",
       "      <td>17ae54ba-9a79-4ba4-9ad2-a0b1020e6290</td>\n",
       "      <td>erica potts</td>\n",
       "      <td>Helpful for me to keep track of my steps</td>\n",
       "      <td>5</td>\n",
       "      <td>0</td>\n",
       "    </tr>\n",
       "  </tbody>\n",
       "</table>\n",
       "</div>"
      ],
      "text/plain": [
       "                              review_id        user_name  \\\n",
       "0  b52e6513-a955-438a-a048-4ae5e1e81abb       Marlena H.   \n",
       "1  d88c0a81-2611-4f53-b0c4-8f1a2442b6ac  Jeremy Chandler   \n",
       "2  22205257-f36d-464d-ba47-4ef7283071a3    Stu McConnell   \n",
       "3  c975c4ab-1a72-4e0f-a579-021ffbbe2d50      Emer Waters   \n",
       "4  17ae54ba-9a79-4ba4-9ad2-a0b1020e6290      erica potts   \n",
       "\n",
       "                                  review_description  rating  thumbs_up  \n",
       "0      Horrible change not allowing group challenges       2          0  \n",
       "1  Google already starting to sunset features and...       2          0  \n",
       "2  Whatever you have done with the latest update ...       1          0  \n",
       "3  Challenges with friends/family were removed, s...       1          0  \n",
       "4           Helpful for me to keep track of my steps       5          0  "
      ]
     },
     "execution_count": 15,
     "metadata": {},
     "output_type": "execute_result"
    }
   ],
   "source": [
    "try:\n",
    "    df = pd.read_csv('FitBitReviews_updated.csv')\n",
    "except FileNotFoundError:\n",
    "    print(\"Make sure 'FitBitReviews_updated.csv' is in the correct directory.\")\n",
    "    exit()\n",
    "\n",
    "df.head()"
   ]
  },
  {
   "cell_type": "code",
   "execution_count": 16,
   "id": "d9e75ca1-8d33-4348-bbb3-6cb07fd0fece",
   "metadata": {},
   "outputs": [
    {
     "data": {
      "text/html": [
       "<div>\n",
       "<style scoped>\n",
       "    .dataframe tbody tr th:only-of-type {\n",
       "        vertical-align: middle;\n",
       "    }\n",
       "\n",
       "    .dataframe tbody tr th {\n",
       "        vertical-align: top;\n",
       "    }\n",
       "\n",
       "    .dataframe thead th {\n",
       "        text-align: right;\n",
       "    }\n",
       "</style>\n",
       "<table border=\"1\" class=\"dataframe\">\n",
       "  <thead>\n",
       "    <tr style=\"text-align: right;\">\n",
       "      <th></th>\n",
       "      <th>rating</th>\n",
       "      <th>thumbs_up</th>\n",
       "    </tr>\n",
       "  </thead>\n",
       "  <tbody>\n",
       "    <tr>\n",
       "      <th>count</th>\n",
       "      <td>333353.000000</td>\n",
       "      <td>333353.000000</td>\n",
       "    </tr>\n",
       "    <tr>\n",
       "      <th>mean</th>\n",
       "      <td>3.294265</td>\n",
       "      <td>1.226022</td>\n",
       "    </tr>\n",
       "    <tr>\n",
       "      <th>std</th>\n",
       "      <td>1.660247</td>\n",
       "      <td>13.244563</td>\n",
       "    </tr>\n",
       "    <tr>\n",
       "      <th>min</th>\n",
       "      <td>1.000000</td>\n",
       "      <td>0.000000</td>\n",
       "    </tr>\n",
       "    <tr>\n",
       "      <th>25%</th>\n",
       "      <td>1.000000</td>\n",
       "      <td>0.000000</td>\n",
       "    </tr>\n",
       "    <tr>\n",
       "      <th>50%</th>\n",
       "      <td>4.000000</td>\n",
       "      <td>0.000000</td>\n",
       "    </tr>\n",
       "    <tr>\n",
       "      <th>75%</th>\n",
       "      <td>5.000000</td>\n",
       "      <td>0.000000</td>\n",
       "    </tr>\n",
       "    <tr>\n",
       "      <th>max</th>\n",
       "      <td>5.000000</td>\n",
       "      <td>1303.000000</td>\n",
       "    </tr>\n",
       "  </tbody>\n",
       "</table>\n",
       "</div>"
      ],
      "text/plain": [
       "              rating      thumbs_up\n",
       "count  333353.000000  333353.000000\n",
       "mean        3.294265       1.226022\n",
       "std         1.660247      13.244563\n",
       "min         1.000000       0.000000\n",
       "25%         1.000000       0.000000\n",
       "50%         4.000000       0.000000\n",
       "75%         5.000000       0.000000\n",
       "max         5.000000    1303.000000"
      ]
     },
     "execution_count": 16,
     "metadata": {},
     "output_type": "execute_result"
    }
   ],
   "source": [
    "df.describe()"
   ]
  },
  {
   "cell_type": "code",
   "execution_count": 14,
   "id": "bbd680eb-18f0-4cba-817a-66d8b7f53e96",
   "metadata": {},
   "outputs": [
    {
     "name": "stderr",
     "output_type": "stream",
     "text": [
      "[nltk_data] Downloading package punkt to\n",
      "[nltk_data]     C:\\Users\\Admin\\AppData\\Roaming\\nltk_data...\n",
      "[nltk_data]   Package punkt is already up-to-date!\n",
      "[nltk_data] Downloading package stopwords to\n",
      "[nltk_data]     C:\\Users\\Admin\\AppData\\Roaming\\nltk_data...\n",
      "[nltk_data]   Package stopwords is already up-to-date!\n",
      "[nltk_data] Downloading package wordnet to\n",
      "[nltk_data]     C:\\Users\\Admin\\AppData\\Roaming\\nltk_data...\n",
      "[nltk_data]   Package wordnet is already up-to-date!\n"
     ]
    },
    {
     "data": {
      "text/plain": [
       "True"
      ]
     },
     "execution_count": 14,
     "metadata": {},
     "output_type": "execute_result"
    }
   ],
   "source": [
    "# Download necessary NLTK data\n",
    "nltk.download('punkt')\n",
    "nltk.download('stopwords')\n",
    "nltk.download('wordnet')"
   ]
  },
  {
   "cell_type": "markdown",
   "id": "66c33644-d413-495e-83c1-5f57c336fe1e",
   "metadata": {},
   "source": [
    "# Problem 1 - Most Common Issues faced "
   ]
  },
  {
   "cell_type": "code",
   "execution_count": 17,
   "id": "c09c262b-9b2c-416a-9f93-d7fb062c0586",
   "metadata": {},
   "outputs": [],
   "source": [
    "# 1. Filter for reviews with rating 1 or 2\n",
    "negative_reviews_df = df[df['rating'].isin([1, 2])].copy()"
   ]
  },
  {
   "cell_type": "code",
   "execution_count": 18,
   "id": "f4e852b9-17c6-4795-86b2-272ab0414660",
   "metadata": {},
   "outputs": [],
   "source": [
    "# 2. Preprocess the text\n",
    "lemmatizer = WordNetLemmatizer()\n",
    "stop_words = set(stopwords.words('english'))\n",
    "# Add custom stop words if needed\n",
    "custom_stop_words = ['fitbit', 'device', 'one', 'get', 'would', 'ive', 'im']\n",
    "stop_words.update(custom_stop_words)"
   ]
  },
  {
   "cell_type": "code",
   "execution_count": 19,
   "id": "83e3109e-2e2d-4f18-88b9-48b7deb8c2e9",
   "metadata": {},
   "outputs": [],
   "source": [
    "def preprocess_text(text):\n",
    "    if not isinstance(text, str):# Ensure text is a string\n",
    "        return []\n",
    "    # Lowercase and remove non-alphanumeric characters\n",
    "    text = re.sub(r'\\W+', ' ', text.lower())\n",
    "    # Tokenize\n",
    "    tokens = word_tokenize(text)\n",
    "    # Lemmatize and remove stop words\n",
    "    lemmatized_tokens = [lemmatizer.lemmatize(word) for word in tokens if word not in stop_words and len(word) > 1]\n",
    "    return lemmatized_tokens\n",
    "negative_reviews_df['processed_description'] = negative_reviews_df['review_description'].apply(preprocess_text)"
   ]
  },
  {
   "cell_type": "code",
   "execution_count": 20,
   "id": "b1ff949e-f663-4168-99dc-855b258e3008",
   "metadata": {},
   "outputs": [],
   "source": [
    "# 3. Generate and count N-grams\n",
    "all_tokens = [token for sublist in negative_reviews_df['processed_description'] for token in sublist]\n",
    "\n",
    "# Bigrams (pairs of words)\n",
    "bigrams = list(nltk.bigrams(all_tokens))\n",
    "bigram_counts = Counter(bigrams)\n",
    "\n",
    "# Trigrams (sequences of three words)\n",
    "trigrams = list(nltk.trigrams(all_tokens))\n",
    "trigram_counts = Counter(trigrams)"
   ]
  },
  {
   "cell_type": "code",
   "execution_count": 21,
   "id": "9269773c-f776-48bc-9a62-a9b94009c488",
   "metadata": {},
   "outputs": [
    {
     "name": "stdout",
     "output_type": "stream",
     "text": [
      "Most Common Issues (Bigrams):\n",
      "please fix: 4950\n",
      "last update: 4862\n",
      "latest update: 3310\n",
      "sync phone: 2821\n",
      "new update: 2773\n",
      "since last: 2768\n",
      "fit bit: 2741\n",
      "app sync: 2546\n",
      "heart rate: 2402\n",
      "since update: 2354\n",
      "sync app: 2251\n",
      "stopped syncing: 2237\n",
      "update app: 2227\n",
      "customer service: 2143\n",
      "every time: 2057\n",
      "\n",
      "Most Common Issues (Trigrams):\n",
      "since last update: 2237\n",
      "bad bad bad: 816\n",
      "uninstall reinstall app: 780\n",
      "uninstalled reinstalled app: 628\n",
      "since latest update: 621\n",
      "since new update: 460\n",
      "please fix app: 405\n",
      "please fix asap: 402\n",
      "take forever sync: 397\n",
      "since recent update: 382\n",
      "please fix issue: 361\n",
      "uninstalling reinstalling app: 358\n",
      "last update sync: 354\n",
      "ever since update: 322\n",
      "app keep crashing: 312\n"
     ]
    }
   ],
   "source": [
    "print(\"Most Common Issues (Bigrams):\")\n",
    "for item, count in bigram_counts.most_common(15):\n",
    "    print(f'{\" \".join(item)}: {count}')\n",
    "\n",
    "print(\"\\nMost Common Issues (Trigrams):\")\n",
    "for item, count in trigram_counts.most_common(15):\n",
    "    print(f'{\" \".join(item)}: {count}')"
   ]
  },
  {
   "cell_type": "markdown",
   "id": "f6dde595-d43d-4363-ba6f-c644a67345b6",
   "metadata": {},
   "source": [
    "### the count suggest that there are some really serious issues face by customers"
   ]
  },
  {
   "cell_type": "markdown",
   "id": "a56f0610-09b3-493a-8881-6b47a9e1a5f3",
   "metadata": {},
   "source": [
    "## Looking for issues face by our customers"
   ]
  },
  {
   "cell_type": "code",
   "execution_count": 24,
   "id": "bedbe0a3-7301-4463-b512-d280c5998696",
   "metadata": {},
   "outputs": [],
   "source": [
    "# We will search for the top 5 distinct topics.\n",
    "N_TOPICS = 5\n",
    "# We will display the top 12 keywords for each topic.\n",
    "N_TOP_WORDS = 12"
   ]
  },
  {
   "cell_type": "code",
   "execution_count": 27,
   "id": "6a89a637-c21b-418d-9a76-d708ccc95c37",
   "metadata": {},
   "outputs": [],
   "source": [
    "# --- Function to display the topics (Corrected for readability) ---\n",
    "def display_topics(model, feature_names, n_top_words):\n",
    "    print(\"\\n--- Top 5 Most Common Issues Discovered by the Model ---\")\n",
    "    for topic_idx, topic in enumerate(model.components_):\n",
    "        # Joins the top words with a comma and space for clarity\n",
    "        topic_words = \", \".join([feature_names[i] for i in topic.argsort()[:-n_top_words - 1:-1]])\n",
    "        print(f\"\\nTopic {topic_idx + 1}:\")\n",
    "        print(topic_words)"
   ]
  },
  {
   "cell_type": "code",
   "execution_count": 28,
   "id": "f4bd23b4-6253-4381-98a7-d2d37dd71ef0",
   "metadata": {},
   "outputs": [],
   "source": [
    "# Filter for negative reviews (ratings 1 and 2) and drop any empty reviews\n",
    "negative_reviews = df[df['rating'].isin([1, 2])]['review_description'].dropna().astype(str)\n",
    "# --- 2. Preprocess the Text Data ---\n",
    "# Add custom stop words: These are common words in the reviews that don't help identify specific issues.\n",
    "custom_stop_words = ['fitbit', 'device', 'app', 'watch', 'tracker', 'get', 'use', 'ive', 'im', 'would', 'one', 'wa']\n",
    "stop_words = list(stopwords.words('english'))\n",
    "stop_words.extend(custom_stop_words)"
   ]
  },
  {
   "cell_type": "code",
   "execution_count": 30,
   "id": "a18ce39a-6eed-495c-ae34-99e6b0935137",
   "metadata": {},
   "outputs": [
    {
     "name": "stdout",
     "output_type": "stream",
     "text": [
      "Preprocessing text data...\n"
     ]
    }
   ],
   "source": [
    "def preprocess(text):\n",
    "    text = text.lower()\n",
    "    text = re.sub(r'[^a-zA-Z\\s]', '', text)  # Keep only letters and spaces\n",
    "    tokens = word_tokenize(text)\n",
    "    # Filter out stop words and short words\n",
    "    filtered_tokens = [word for word in tokens if word not in stop_words and len(word) > 2]\n",
    "    return \" \".join(filtered_tokens)\n",
    "print(\"Preprocessing text data...\")\n",
    "processed_reviews = [preprocess(review) for review in negative_reviews]\n"
   ]
  },
  {
   "cell_type": "code",
   "execution_count": 39,
   "id": "8ff2a37f-f19f-43b3-86b1-85ac1b718302",
   "metadata": {},
   "outputs": [
    {
     "name": "stdout",
     "output_type": "stream",
     "text": [
      "Running NMF model to find topics...\n",
      "\n",
      "--- Top 5 Most Common Issues Discovered by the Model ---\n",
      "\n",
      "Topic 1:\n",
      "sync, charge, phone, able, doesnt, takes, unable, anymore, time, frustrating, issues, days\n",
      "\n",
      "Topic 2:\n",
      "syncing, phone, working, time, stopped, charge, fix, issues, versa, tried, notifications, days\n",
      "\n",
      "Topic 3:\n",
      "doesnt, work, properly, time, anymore, dont, used, sleep, steps, track, android, notifications\n",
      "\n",
      "Topic 4:\n",
      "wont, connect, let, download, phone, anymore, pair, tried, open, work, stay, updated\n",
      "\n",
      "Topic 5:\n",
      "update, latest, new, fix, longer, recent, worked, working, fine, firmware, useless, steps\n"
     ]
    }
   ],
   "source": [
    "# --- 3. Vectorize Text with TF-IDF ---\n",
    "# Using TF-IDF helps to highlight words that are important to a review, not just frequent overall.\n",
    "# min_df=3 means a word must appear in at least 3 reviews to be considered.\n",
    "vectorizer = TfidfVectorizer(max_df=0.90, min_df=3, stop_words='english')\n",
    "tfidf = vectorizer.fit_transform(processed_reviews)\n",
    "feature_names = vectorizer.get_feature_names_out()\n",
    "\n",
    "# --- 4. Apply Non-Negative Matrix Factorization (NMF) ---\n",
    "# NMF is excellent for finding additive, interpretable topics.\n",
    "# random_state=0 ensures the results are the same each time you run the code.\n",
    "print(\"Running NMF model to find topics...\")\n",
    "nmf_model = NMF(n_components=N_TOPICS, random_state=0, init='nndsvd')\n",
    "nmf_model.fit(tfidf)\n",
    "\n",
    "# --- 5. Display the Results ---\n",
    "display_topics(nmf_model, feature_names, N_TOP_WORDS)"
   ]
  },
  {
   "cell_type": "code",
   "execution_count": 40,
   "id": "09d6b5eb-704b-4e98-ba65-7efd416252ab",
   "metadata": {},
   "outputs": [],
   "source": [
    "import torch\n",
    "from transformers import pipeline"
   ]
  },
  {
   "cell_type": "code",
   "execution_count": 41,
   "id": "f835f66e-df1d-41f6-ae33-a91a3640dd49",
   "metadata": {},
   "outputs": [
    {
     "name": "stdout",
     "output_type": "stream",
     "text": [
      "Loading the AI model (Flan-T5-Large)... This may take a minute.\n"
     ]
    },
    {
     "name": "stderr",
     "output_type": "stream",
     "text": [
      "Device set to use cpu\n"
     ]
    },
    {
     "name": "stdout",
     "output_type": "stream",
     "text": [
      "Model loaded successfully.\n",
      "\n",
      "--- Interpreting Topics Using Open-Source AI ---\n"
     ]
    },
    {
     "name": "stderr",
     "output_type": "stream",
     "text": [
      "Both `max_new_tokens` (=256) and `max_length`(=150) seem to have been set. `max_new_tokens` will take precedence. Please refer to the documentation for more information. (https://huggingface.co/docs/transformers/main/en/main_classes/text_generation)\n"
     ]
    },
    {
     "name": "stdout",
     "output_type": "stream",
     "text": [
      "\n",
      "--- Topic 1 ---\n",
      "Keywords: sync, connect, wont, phone, bluetooth, connection, issues, tried, problem, pair, constantly, restart\n",
      "AI Interpretation: unable to sync with phone or bluetooth constantly disconnects and restarts\n"
     ]
    },
    {
     "name": "stderr",
     "output_type": "stream",
     "text": [
      "Both `max_new_tokens` (=256) and `max_length`(=150) seem to have been set. `max_new_tokens` will take precedence. Please refer to the documentation for more information. (https://huggingface.co/docs/transformers/main/en/main_classes/text_generation)\n"
     ]
    },
    {
     "name": "stdout",
     "output_type": "stream",
     "text": [
      "\n",
      "--- Topic 2 ---\n",
      "Keywords: stopped, working, notifications, properly, time, months, fine, ago, worked, charge, screen, longer\n",
      "AI Interpretation: a fitness tracker stopped working properly and notifications stopped working for months\n"
     ]
    },
    {
     "name": "stderr",
     "output_type": "stream",
     "text": [
      "Both `max_new_tokens` (=256) and `max_length`(=150) seem to have been set. `max_new_tokens` will take precedence. Please refer to the documentation for more information. (https://huggingface.co/docs/transformers/main/en/main_classes/text_generation)\n"
     ]
    },
    {
     "name": "stdout",
     "output_type": "stream",
     "text": [
      "\n",
      "--- Topic 3 ---\n",
      "Keywords: steps, tracking, track, sleep, heart, rate, data, count, accuracy, doesnt, accurate, calories\n",
      "AI Interpretation: a fitness tracker that doesn't count steps accurately\n"
     ]
    },
    {
     "name": "stderr",
     "output_type": "stream",
     "text": [
      "Both `max_new_tokens` (=256) and `max_length`(=150) seem to have been set. `max_new_tokens` will take precedence. Please refer to the documentation for more information. (https://huggingface.co/docs/transformers/main/en/main_classes/text_generation)\n"
     ]
    },
    {
     "name": "stdout",
     "output_type": "stream",
     "text": [
      "\n",
      "--- Topic 4 ---\n",
      "Keywords: update, latest, new, version, firmware, after, since, broke, worked, fix, recent, useless\n",
      "AI Interpretation: useless fitness tracker broke after latest firmware update\n"
     ]
    },
    {
     "name": "stderr",
     "output_type": "stream",
     "text": [
      "Both `max_new_tokens` (=256) and `max_length`(=150) seem to have been set. `max_new_tokens` will take precedence. Please refer to the documentation for more information. (https://huggingface.co/docs/transformers/main/en/main_classes/text_generation)\n"
     ]
    },
    {
     "name": "stdout",
     "output_type": "stream",
     "text": [
      "\n",
      "--- Topic 5 ---\n",
      "Keywords: customer, service, support, bad, experience, premium, pay, useless, features, time, money, waste\n",
      "AI Interpretation: bad customer service and support for a fitness tracker\n"
     ]
    }
   ],
   "source": [
    "# --- 1. Your Discovered Topics ---\n",
    "# Paste the actual topic words you discovered from your NMF analysis.\n",
    "discovered_topics = {\n",
    "    \"Topic 1\": \"sync, connect, wont, phone, bluetooth, connection, issues, tried, problem, pair, constantly, restart\",\n",
    "    \"Topic 2\": \"stopped, working, notifications, properly, time, months, fine, ago, worked, charge, screen, longer\",\n",
    "    \"Topic 3\": \"steps, tracking, track, sleep, heart, rate, data, count, accuracy, doesnt, accurate, calories\",\n",
    "    \"Topic 4\": \"update, latest, new, version, firmware, after, since, broke, worked, fix, recent, useless\",\n",
    "    \"Topic 5\": \"customer, service, support, bad, experience, premium, pay, useless, features, time, money, waste\"\n",
    "}\n",
    "\n",
    "# --- 3. Set up the AI Model Pipeline ---\n",
    "# The 'pipeline' function from the transformers library is the easiest way to use a model.\n",
    "# We are using Google's Flan-T5 model, which is excellent at following instructions.\n",
    "# The 'device=0' tells the pipeline to use the GPU if available, making it much faster.\n",
    "print(\"Loading the AI model (Flan-T5-Large)... This may take a minute.\")\n",
    "try:\n",
    "    # Check if a GPU is available and set the device accordingly\n",
    "    device = 0 if torch.cuda.is_available() else -1\n",
    "    pipe = pipeline(\n",
    "        \"text2text-generation\",\n",
    "        model=\"google/flan-t5-large\",\n",
    "        device=device\n",
    "    )\n",
    "    print(\"Model loaded successfully.\")\n",
    "except Exception as e:\n",
    "    print(f\"An error occurred during model loading: {e}\")\n",
    "    print(\"Please ensure you are in a GPU-enabled environment.\")\n",
    "    pipe = None\n",
    "\n",
    "# --- 4. Interpret Each Topic ---\n",
    "if pipe:\n",
    "    print(\"\\n--- Interpreting Topics Using Open-Source AI ---\")\n",
    "    for title, keywords in discovered_topics.items():\n",
    "        # This is the instruction we give the model. It's clear and direct.\n",
    "        prompt = f\"\"\"\n",
    "        Analyze the following keywords discovered from negative customer reviews for a fitness tracker.\n",
    "        Provide a short title for the main issue and a 2-sentence summary explaining the problem.\n",
    "\n",
    "        Keywords: \"{keywords}\"\n",
    "        \"\"\"\n",
    "\n",
    "        # Generate the interpretation\n",
    "        result = pipe(prompt, max_length=150, num_beams=4, early_stopping=True)\n",
    "        interpretation = result[0]['generated_text']\n",
    "\n",
    "        print(f\"\\n--- {title} ---\")\n",
    "        print(f\"Keywords: {keywords}\")\n",
    "        print(f\"AI Interpretation: {interpretation}\")"
   ]
  }
 ],
 "metadata": {
  "kernelspec": {
   "display_name": "Python 3 (ipykernel)",
   "language": "python",
   "name": "python3"
  },
  "language_info": {
   "codemirror_mode": {
    "name": "ipython",
    "version": 3
   },
   "file_extension": ".py",
   "mimetype": "text/x-python",
   "name": "python",
   "nbconvert_exporter": "python",
   "pygments_lexer": "ipython3",
   "version": "3.12.7"
  }
 },
 "nbformat": 4,
 "nbformat_minor": 5
}
