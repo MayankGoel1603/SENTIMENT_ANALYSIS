{
 "cells": [
  {
   "cell_type": "code",
   "execution_count": 1,
   "id": "c2572257-7494-455d-a033-6cf3c2f719ec",
   "metadata": {},
   "outputs": [],
   "source": [
    "# Data handling\n",
    "import pandas as pd\n",
    "# NLP tools\n",
    "import nltk\n",
    "from nltk.corpus import stopwords\n",
    "from nltk.tokenize import word_tokenize\n",
    "from nltk.stem import WordNetLemmatizer\n",
    "# Vectorization & Topic Modeling\n",
    "from sklearn.feature_extraction.text import TfidfVectorizer\n",
    "from sklearn.decomposition import NMF\n",
    "# Misc utilities\n",
    "from collections import Counter\n",
    "import re\n",
    "import spacy\n",
    "from tqdm.auto import tqdm\n",
    "# Transformers for advanced summarization or classification\n",
    "from transformers import pipeline"
   ]
  },
  {
   "cell_type": "code",
   "execution_count": 2,
   "id": "ecd82c9a-6772-4c24-b7c9-b10c138e1cc1",
   "metadata": {},
   "outputs": [
    {
     "name": "stderr",
     "output_type": "stream",
     "text": [
      "[nltk_data] Downloading package punkt to\n",
      "[nltk_data]     C:\\Users\\Admin\\AppData\\Roaming\\nltk_data...\n",
      "[nltk_data]   Package punkt is already up-to-date!\n",
      "[nltk_data] Downloading package stopwords to\n",
      "[nltk_data]     C:\\Users\\Admin\\AppData\\Roaming\\nltk_data...\n",
      "[nltk_data]   Package stopwords is already up-to-date!\n",
      "[nltk_data] Downloading package wordnet to\n",
      "[nltk_data]     C:\\Users\\Admin\\AppData\\Roaming\\nltk_data...\n",
      "[nltk_data]   Package wordnet is already up-to-date!\n"
     ]
    },
    {
     "data": {
      "text/plain": [
       "True"
      ]
     },
     "execution_count": 2,
     "metadata": {},
     "output_type": "execute_result"
    }
   ],
   "source": [
    "# Download necessary NLTK data\n",
    "nltk.download('punkt')\n",
    "nltk.download('stopwords')\n",
    "nltk.download('wordnet')"
   ]
  },
  {
   "cell_type": "markdown",
   "id": "62befd7a-1883-4b2c-a3df-11ae2a5b13ea",
   "metadata": {},
   "source": [
    "## PROBLEM 2- Most Common Strength"
   ]
  },
  {
   "cell_type": "code",
   "execution_count": 3,
   "id": "9c4167b8-fd77-447f-a45a-c9ea26e344cb",
   "metadata": {},
   "outputs": [],
   "source": [
    "# --- 1. Load and Filter Data ---\n",
    "try:\n",
    "    df = pd.read_csv('FitBitReviews_updated.csv')\n",
    "except FileNotFoundError:\n",
    "    print(\"Error: 'FitBitReviews_updated.csv' not found. Please ensure the file is in the correct directory.\")\n",
    "    exit()\n",
    "\n",
    "# We will search for the top 5 distinct topics.\n",
    "N_TOPICS = 5\n",
    "# We will display the top 12 keywords for each topic.\n",
    "N_TOP_WORDS = 12"
   ]
  },
  {
   "cell_type": "code",
   "execution_count": 5,
   "id": "d2de073e-137d-4799-98c1-b8a7804a2f74",
   "metadata": {},
   "outputs": [],
   "source": [
    "# Filter for negative reviews (ratings 1 and 2) and drop any empty reviews\n",
    "positive_reviews = df[df['rating'].isin([4, 5])]['review_description'].dropna().astype(str)"
   ]
  },
  {
   "cell_type": "code",
   "execution_count": 6,
   "id": "80fd6515-ce97-47ef-920b-84359abc9653",
   "metadata": {},
   "outputs": [],
   "source": [
    "# --- 2. Preprocess the Text Data ---\n",
    "# Add custom stop words: These are common words in the reviews that don't help identify specific issues.\n",
    "custom_stop_words = ['fitbit', 'device', 'app', 'watch', 'tracker', 'get', 'use', 'ive', 'im', 'would', 'one', 'wa']\n",
    "stop_words = list(stopwords.words('english'))\n",
    "stop_words.extend(custom_stop_words)"
   ]
  },
  {
   "cell_type": "code",
   "execution_count": 4,
   "id": "ac792a79-788e-417c-a9a0-160b3b0c7ced",
   "metadata": {},
   "outputs": [],
   "source": [
    "# --- Function to display the topics (Corrected for readability) ---\n",
    "def display_topics(model, feature_names, n_top_words):\n",
    "    print(\"\\n--- Top 5 Most Common Strength Discovered by the Model ---\")\n",
    "    for topic_idx, topic in enumerate(model.components_):\n",
    "        # Joins the top words with a comma and space for clarity\n",
    "        topic_words = \", \".join([feature_names[i] for i in topic.argsort()[:-n_top_words - 1:-1]])\n",
    "        print(f\"\\nTopic {topic_idx + 1}:\")\n",
    "        print(topic_words)"
   ]
  },
  {
   "cell_type": "code",
   "execution_count": 7,
   "id": "21daca6a-f8f2-48d7-83b2-c5f44fbe15aa",
   "metadata": {},
   "outputs": [],
   "source": [
    "def preprocess(text):\n",
    "    text = text.lower()\n",
    "    text = re.sub(r'[^a-zA-Z\\s]', '', text)  # Keep only letters and spaces\n",
    "    tokens = word_tokenize(text)\n",
    "    # Filter out stop words and short words\n",
    "    filtered_tokens = [word for word in tokens if word not in stop_words and len(word) > 2]\n",
    "    return \" \".join(filtered_tokens)"
   ]
  },
  {
   "cell_type": "code",
   "execution_count": 9,
   "id": "1a7f8577-0e1f-40df-8544-90afc7383712",
   "metadata": {},
   "outputs": [
    {
     "name": "stdout",
     "output_type": "stream",
     "text": [
      "Preprocessing text data...\n"
     ]
    }
   ],
   "source": [
    "print(\"Preprocessing text data...\")\n",
    "processed_reviews = [preprocess(review) for review in positive_reviews]"
   ]
  },
  {
   "cell_type": "code",
   "execution_count": 10,
   "id": "bdb29644-3a24-49f4-8bb1-1c9f36feaf98",
   "metadata": {},
   "outputs": [
    {
     "name": "stdout",
     "output_type": "stream",
     "text": [
      "Running NMF model to find topics...\n",
      "\n",
      "--- Top 5 Most Common Strength Discovered by the Model ---\n",
      "\n",
      "Topic 1:\n",
      "love, keeps, track, sleep, fit, helps, steps, bit, motivated, day, absolutely, charge\n",
      "\n",
      "Topic 2:\n",
      "great, works, track, fitness, tracking, tool, sleep, way, far, motivator, product, steps\n",
      "\n",
      "Topic 3:\n",
      "good, far, really, works, pretty, like, track, sleep, health, tracking, overall, steps\n",
      "\n",
      "Topic 4:\n",
      "easy, track, keeps, helpful, really, like, set, excellent, understand, motivated, helps, sleep\n",
      "\n",
      "Topic 5:\n",
      "awesome, track, keeps, sleep, helps, fitness, works, really, motivated, steps, like, fit\n"
     ]
    }
   ],
   "source": [
    "# --- 3. Vectorize Text with TF-IDF ---\n",
    "# Using TF-IDF helps to highlight words that are important to a review, not just frequent overall.\n",
    "# min_df=3 means a word must appear in at least 3 reviews to be considered.\n",
    "vectorizer = TfidfVectorizer(max_df=0.90, min_df=3, stop_words='english')\n",
    "tfidf = vectorizer.fit_transform(processed_reviews)\n",
    "feature_names = vectorizer.get_feature_names_out()\n",
    "\n",
    "# --- 4. Apply Non-Negative Matrix Factorization (NMF) ---\n",
    "# NMF is excellent for finding additive, interpretable topics.\n",
    "# random_state=0 ensures the results are the same each time you run the code.\n",
    "print(\"Running NMF model to find topics...\")\n",
    "nmf_model = NMF(n_components=N_TOPICS, random_state=0, init='nndsvd')\n",
    "nmf_model.fit(tfidf)\n",
    "\n",
    "# --- 5. Display the Results ---\n",
    "display_topics(nmf_model, feature_names, N_TOP_WORDS)"
   ]
  },
  {
   "cell_type": "code",
   "execution_count": 11,
   "id": "f387f990-dc4b-4d96-a2c2-64ef88e12077",
   "metadata": {},
   "outputs": [],
   "source": [
    "import torch\n",
    "from transformers import pipeline"
   ]
  },
  {
   "cell_type": "code",
   "execution_count": 12,
   "id": "381ee664-160b-4056-b8e8-7deb41eb3ba5",
   "metadata": {},
   "outputs": [],
   "source": [
    "# --- 2. Your Discovered Topics ---\n",
    "# Paste the actual topic words you discovered from your NMF analysis.\n",
    "discovered_topics = {\n",
    "    \"Topic 1\": \"love, keeps, track, sleep, fit, helps, steps, bit, motivated, day, absolutely, charge\",\n",
    "    \"Topic 2\": \"great, works, track, fitness, tracking, tool, sleep, way, far, motivator, product, steps\",\n",
    "    \"Topic 3\": \"good, far, really, works, pretty, like, track, sleep, health, tracking, overall, steps\",\n",
    "    \"Topic 4\": \"easy, track, keeps, helpful, really, like, set, excellent, understand, motivated, helps, sleep\",\n",
    "    \"Topic 5\": \"awesome, track, keeps, sleep, helps, fitness, works, really, motivated, steps, like, fit\"\n",
    "}"
   ]
  },
  {
   "cell_type": "code",
   "execution_count": 13,
   "id": "425dc28c-1b29-4b41-befe-4ebf968ed1b9",
   "metadata": {},
   "outputs": [
    {
     "name": "stdout",
     "output_type": "stream",
     "text": [
      "Loading the AI model (Flan-T5-Large)... This may take a minute.\n"
     ]
    },
    {
     "name": "stderr",
     "output_type": "stream",
     "text": [
      "Device set to use cpu\n"
     ]
    },
    {
     "name": "stdout",
     "output_type": "stream",
     "text": [
      "Model loaded successfully.\n"
     ]
    }
   ],
   "source": [
    "# --- 3. Set up the AI Model Pipeline ---\n",
    "# The 'pipeline' function from the transformers library is the easiest way to use a model.\n",
    "# We are using Google's Flan-T5 model, which is excellent at following instructions.\n",
    "# The 'device=0' tells the pipeline to use the GPU if available, making it much faster.\n",
    "print(\"Loading the AI model (Flan-T5-Large)... This may take a minute.\")\n",
    "try:\n",
    "    # Check if a GPU is available and set the device accordingly\n",
    "    device = 0 if torch.cuda.is_available() else -1\n",
    "    pipe = pipeline(\n",
    "        \"text2text-generation\",\n",
    "        model=\"google/flan-t5-large\",\n",
    "        device=device\n",
    "    )\n",
    "    print(\"Model loaded successfully.\")\n",
    "except Exception as e:\n",
    "    print(f\"An error occurred during model loading: {e}\")\n",
    "    print(\"Please ensure you are in a GPU-enabled environment.\")\n",
    "    pipe = None\n"
   ]
  },
  {
   "cell_type": "code",
   "execution_count": 14,
   "id": "e2abfbfe-8b46-4013-8e5d-b610ca085bfc",
   "metadata": {},
   "outputs": [
    {
     "name": "stdout",
     "output_type": "stream",
     "text": [
      "\n",
      "--- Interpreting Topics Using Open-Source AI ---\n"
     ]
    },
    {
     "name": "stderr",
     "output_type": "stream",
     "text": [
      "Both `max_new_tokens` (=256) and `max_length`(=150) seem to have been set. `max_new_tokens` will take precedence. Please refer to the documentation for more information. (https://huggingface.co/docs/transformers/main/en/main_classes/text_generation)\n"
     ]
    },
    {
     "name": "stdout",
     "output_type": "stream",
     "text": [
      "\n",
      "--- Topic 1 ---\n",
      "Keywords: love, keeps, track, sleep, fit, helps, steps, bit, motivated, day, absolutely, charge\n",
      "AI Interpretation: keeps track of your steps, sleep, and sleep cycle to help you stay fit and motivated throughout the day\n"
     ]
    },
    {
     "name": "stderr",
     "output_type": "stream",
     "text": [
      "Both `max_new_tokens` (=256) and `max_length`(=150) seem to have been set. `max_new_tokens` will take precedence. Please refer to the documentation for more information. (https://huggingface.co/docs/transformers/main/en/main_classes/text_generation)\n"
     ]
    },
    {
     "name": "stdout",
     "output_type": "stream",
     "text": [
      "\n",
      "--- Topic 2 ---\n",
      "Keywords: great, works, track, fitness, tracking, tool, sleep, way, far, motivator, product, steps\n",
      "AI Interpretation: great tool for tracking your steps and sleep and a great way to motivate yourself\n"
     ]
    },
    {
     "name": "stderr",
     "output_type": "stream",
     "text": [
      "Both `max_new_tokens` (=256) and `max_length`(=150) seem to have been set. `max_new_tokens` will take precedence. Please refer to the documentation for more information. (https://huggingface.co/docs/transformers/main/en/main_classes/text_generation)\n"
     ]
    },
    {
     "name": "stdout",
     "output_type": "stream",
     "text": [
      "\n",
      "--- Topic 3 ---\n",
      "Keywords: good, far, really, works, pretty, like, track, sleep, health, tracking, overall, steps\n",
      "AI Interpretation: good far really works pretty like tracking sleep health overall\n"
     ]
    },
    {
     "name": "stderr",
     "output_type": "stream",
     "text": [
      "Both `max_new_tokens` (=256) and `max_length`(=150) seem to have been set. `max_new_tokens` will take precedence. Please refer to the documentation for more information. (https://huggingface.co/docs/transformers/main/en/main_classes/text_generation)\n"
     ]
    },
    {
     "name": "stdout",
     "output_type": "stream",
     "text": [
      "\n",
      "--- Topic 4 ---\n",
      "Keywords: easy, track, keeps, helpful, really, like, set, excellent, understand, motivated, helps, sleep\n",
      "AI Interpretation: easy to use and keeps track of your workouts and sleep\n"
     ]
    },
    {
     "name": "stderr",
     "output_type": "stream",
     "text": [
      "Both `max_new_tokens` (=256) and `max_length`(=150) seem to have been set. `max_new_tokens` will take precedence. Please refer to the documentation for more information. (https://huggingface.co/docs/transformers/main/en/main_classes/text_generation)\n"
     ]
    },
    {
     "name": "stdout",
     "output_type": "stream",
     "text": [
      "\n",
      "--- Topic 5 ---\n",
      "Keywords: awesome, track, keeps, sleep, helps, fitness, works, really, motivated, steps, like, fit\n",
      "AI Interpretation: awesome fitness tracker keeps you motivated and keeps you fit\n"
     ]
    }
   ],
   "source": [
    "# --- 4. Interpret Each Topic ---\n",
    "if pipe:\n",
    "    print(\"\\n--- Interpreting Topics Using Open-Source AI ---\")\n",
    "    for title, keywords in discovered_topics.items():\n",
    "        # This is the corrected instruction for POSITIVE reviews.\n",
    "        prompt = f\"\"\"\n",
    "        Analyze the following keywords discovered from **positive customer reviews** for a fitness tracker.\n",
    "        Provide a short title for the main **strength** and a 2-sentence summary explaining what customers **like** about the product.\n",
    "\n",
    "        Keywords: \"{keywords}\"\n",
    "        \"\"\"\n",
    "\n",
    "        # Generate the interpretation\n",
    "        result = pipe(prompt, max_length=150, num_beams=4, early_stopping=True)\n",
    "        interpretation = result[0]['generated_text']\n",
    "\n",
    "        print(f\"\\n--- {title} ---\")\n",
    "        print(f\"Keywords: {keywords}\")\n",
    "        print(f\"AI Interpretation: {interpretation}\")"
   ]
  }
 ],
 "metadata": {
  "kernelspec": {
   "display_name": "Python 3 (ipykernel)",
   "language": "python",
   "name": "python3"
  },
  "language_info": {
   "codemirror_mode": {
    "name": "ipython",
    "version": 3
   },
   "file_extension": ".py",
   "mimetype": "text/x-python",
   "name": "python",
   "nbconvert_exporter": "python",
   "pygments_lexer": "ipython3",
   "version": "3.12.7"
  }
 },
 "nbformat": 4,
 "nbformat_minor": 5
}
