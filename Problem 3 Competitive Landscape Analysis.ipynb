{
 "cells": [
  {
   "cell_type": "markdown",
   "id": "78ca7a31-6b86-4958-8a7a-ad3aaa5e2493",
   "metadata": {},
   "source": [
    "# Problem 3 - Competitive Landscape Analysis"
   ]
  },
  {
   "cell_type": "markdown",
   "id": "29f4631b-40e3-42c4-8edc-b645cb0a438a",
   "metadata": {},
   "source": [
    "from the voice of the customer. The goal is to identify which competing"
   ]
  },
  {
   "cell_type": "code",
   "execution_count": 2,
   "id": "b0b849a5-3ad7-4f4c-891d-05137a527962",
   "metadata": {},
   "outputs": [
    {
     "name": "stdout",
     "output_type": "stream",
     "text": [
      "Step 1: Libraries imported successfully.\n"
     ]
    }
   ],
   "source": [
    "#Libraries\n",
    "import pandas as pd\n",
    "import re\n",
    "from collections import Counter\n",
    "# Visualization\n",
    "import matplotlib.pyplot as plt\n",
    "import seaborn as sns\n",
    "print(\"Step 1: Libraries imported successfully.\")"
   ]
  },
  {
   "cell_type": "code",
   "execution_count": 3,
   "id": "da30f129-3cca-4bf2-9ce8-3061179b540c",
   "metadata": {},
   "outputs": [
    {
     "name": "stdout",
     "output_type": "stream",
     "text": [
      "Step 2: Dataset loaded successfully.\n",
      "Loaded 333353 reviews.\n"
     ]
    }
   ],
   "source": [
    "try:\n",
    "    df = pd.read_csv('FitBitReviews_updated.csv')\n",
    "    # Ensure the review description is a string to prevent errors\n",
    "    df['review_description'] = df['review_description'].astype(str)\n",
    "    print(\"Step 2: Dataset loaded successfully.\")\n",
    "    print(f\"Loaded {len(df)} reviews.\")\n",
    "except FileNotFoundError:\n",
    "    print(\"Error: 'FitBitReviews_updated.csv' not found. Please ensure the file is in the correct directory.\")"
   ]
  },
  {
   "cell_type": "code",
   "execution_count": 4,
   "id": "1d88a14b-0223-4263-ae59-007b8c9a3cf3",
   "metadata": {},
   "outputs": [
    {
     "name": "stdout",
     "output_type": "stream",
     "text": [
      "Step 3: Competitor list and search function defined successfully.\n"
     ]
    }
   ],
   "source": [
    "# Step 3: Define Competitors and the Search Function \n",
    "# Define a comprehensive list of competitors and their common variations\n",
    "competitors_list = {\n",
    "    'Apple Watch': ['apple watch', 'iwatch'],\n",
    "    'Garmin': ['garmin'],\n",
    "    'Samsung': ['samsung', 'galaxy watch'],\n",
    "    'Xiaomi': ['xiaomi', 'mi band'],\n",
    "    'Amazfit': ['amazfit'],\n",
    "    'Huawei': ['huawei'],\n",
    "    'MyFitnessPal': ['myfitnesspal', 'my fitness pal'] # App competitor\n",
    "}\n",
    "\n",
    "def find_competitors_in_text(text):\n",
    "    \"\"\"Scans text for mentions of competitors and returns a list of brands found.\"\"\"\n",
    "    found_competitors = set()\n",
    "    text_lower = text.lower() # Convert text to lowercase for case-insensitive matching\n",
    "    for brand, keywords in competitors_list.items():\n",
    "        for keyword in keywords:\n",
    "            if keyword in text_lower:\n",
    "                found_competitors.add(brand)\n",
    "    return list(found_competitors)\n",
    "\n",
    "print(\"Step 3: Competitor list and search function defined successfully.\")"
   ]
  },
  {
   "cell_type": "code",
   "execution_count": 5,
   "id": "8971a7d4-0195-4574-b0a3-f49b5a1fe8c7",
   "metadata": {},
   "outputs": [
    {
     "name": "stdout",
     "output_type": "stream",
     "text": [
      "Step 4: Competitor search complete.\n",
      "Found 10567 reviews that mention a competitor.\n"
     ]
    }
   ],
   "source": [
    "# Step 4: Find Competitor Mentions in the Data ---\n",
    "\n",
    "# Apply the function to the 'review_description' column\n",
    "df['competitors_mentioned'] = df['review_description'].apply(find_competitors_in_text)\n",
    "\n",
    "# Create a new DataFrame containing only reviews that mention at least one competitor\n",
    "competitor_df = df[df['competitors_mentioned'].map(len) > 0].copy()\n",
    "\n",
    "print(\"Step 4: Competitor search complete.\")\n",
    "print(f\"Found {len(competitor_df)} reviews that mention a competitor.\")"
   ]
  },
  {
   "cell_type": "code",
   "execution_count": 6,
   "id": "46a8802e-b5e8-4ee0-be3a-4f0f49fdd1d0",
   "metadata": {},
   "outputs": [
    {
     "name": "stdout",
     "output_type": "stream",
     "text": [
      "Step 5: Top Competitor Mentions (by frequency):\n",
      "- Samsung: 6202 mentions\n",
      "- MyFitnessPal: 1505 mentions\n",
      "- Garmin: 1466 mentions\n",
      "- Huawei: 981 mentions\n",
      "- Apple Watch: 508 mentions\n",
      "- Xiaomi: 186 mentions\n",
      "- Amazfit: 21 mentions\n"
     ]
    }
   ],
   "source": [
    "#Step 5: Quantitative Analysis - Count the Mentions ---\n",
    "\n",
    "# Flatten the list of lists into a single list of all mentions\n",
    "all_mentions = [brand for sublist in competitor_df['competitors_mentioned'] for brand in sublist]\n",
    "\n",
    "# Count the frequency of each competitor\n",
    "mention_counts = Counter(all_mentions)\n",
    "\n",
    "print(\"Step 5: Top Competitor Mentions (by frequency):\")\n",
    "for brand, count in mention_counts.most_common(10):\n",
    "    print(f\"- {brand}: {count} mentions\")"
   ]
  },
  {
   "cell_type": "code",
   "execution_count": 7,
   "id": "aea4abc1-2b58-49e1-9202-e6c9dee2fef5",
   "metadata": {},
   "outputs": [
    {
     "name": "stderr",
     "output_type": "stream",
     "text": [
      "C:\\Users\\Admin\\AppData\\Local\\Temp\\ipykernel_10908\\2916816629.py:7: FutureWarning: \n",
      "\n",
      "Passing `palette` without assigning `hue` is deprecated and will be removed in v0.14.0. Assign the `y` variable to `hue` and set `legend=False` for the same effect.\n",
      "\n",
      "  sns.barplot(x='Mentions', y='Competitor', data=counts_df, palette='viridis')\n"
     ]
    },
    {
     "name": "stdout",
     "output_type": "stream",
     "text": [
      "Step 6: Competitor mentions chart saved to 'competitor_mentions_chart.png'\n"
     ]
    },
    {
     "data": {
      "image/png": "[encoded data removed]",
      "text/plain": [
       "<Figure size 1200x800 with 1 Axes>"
      ]
     },
     "metadata": {},
     "output_type": "display_data"
    }
   ],
   "source": [
    "# --- Step 6: Visualize the Quantitative Results ---\n",
    "# Convert the counts to a DataFrame for easy plotting\n",
    "counts_df = pd.DataFrame(mention_counts.most_common(10), columns=['Competitor', 'Mentions'])\n",
    "plt.figure(figsize=(12, 8))\n",
    "sns.barplot(x='Mentions', y='Competitor', data=counts_df, palette='viridis')\n",
    "plt.title('Top 10 Most Mentioned Competitors in Fitbit Reviews', fontsize=16)\n",
    "plt.xlabel('Number of Mentions', fontsize=12)\n",
    "plt.ylabel('Competitor', fontsize=12)\n",
    "plt.tight_layout() # Adjust layout to make sure labels fit\n",
    "#Save the chart to a file\n",
    "plt.savefig('competitor_mentions_chart.png')\n",
    "print(\"Step 6: Competitor mentions chart saved to 'competitor_mentions_chart.png'\")"
   ]
  },
  {
   "cell_type": "code",
   "execution_count": 15,
   "id": "497ca46c-9d98-424c-a905-c8c2c8ee49fa",
   "metadata": {},
   "outputs": [
    {
     "name": "stdout",
     "output_type": "stream",
     "text": [
      "Step 7: Average Rating of Reviews When a Competitor is Mentioned:\n",
      "competitors_mentioned\n",
      "Amazfit         1.476190\n",
      "Xiaomi          1.682796\n",
      "Huawei          1.703364\n",
      "Garmin          1.708049\n",
      "Apple Watch     2.000000\n",
      "Samsung         2.106579\n",
      "MyFitnessPal    3.600664\n",
      "Name: rating, dtype: float64\n"
     ]
    }
   ],
   "source": [
    "#Step 7: Contextual Analysis - Analyze Sentiment by Rating ---\n",
    "\n",
    "# Explode the DataFrame so each row corresponds to one competitor mention\n",
    "competitor_df_exploded = competitor_df.explode('competitors_mentioned')\n",
    "\n",
    "# Group by competitor and calculate the mean rating, then sort it\n",
    "avg_rating_by_competitor = competitor_df_exploded.groupby('competitors_mentioned')['rating'].mean().sort_values(ascending=True)\n",
    "\n",
    "print(\"Step 7: Average Rating of Reviews When a Competitor is Mentioned:\")\n",
    "print(avg_rating_by_competitor)\n"
   ]
  },
  {
   "cell_type": "code",
   "execution_count": 21,
   "id": "172754bd-f0ef-45fc-ae6e-20912acd1819",
   "metadata": {},
   "outputs": [
    {
     "name": "stdout",
     "output_type": "stream",
     "text": [
      "\u001b[1mAverage Rating of Reviews When a Competitor is Mentioned:\u001b[0m\n"
     ]
    },
    {
     "data": {
      "text/html": [
       "<div>\n",
       "<style scoped>\n",
       "    .dataframe tbody tr th:only-of-type {\n",
       "        vertical-align: middle;\n",
       "    }\n",
       "\n",
       "    .dataframe tbody tr th {\n",
       "        vertical-align: top;\n",
       "    }\n",
       "\n",
       "    .dataframe thead th {\n",
       "        text-align: right;\n",
       "    }\n",
       "</style>\n",
       "<table border=\"1\" class=\"dataframe\">\n",
       "  <thead>\n",
       "    <tr style=\"text-align: right;\">\n",
       "      <th></th>\n",
       "      <th>competitors_mentioned</th>\n",
       "      <th>rating</th>\n",
       "    </tr>\n",
       "  </thead>\n",
       "  <tbody>\n",
       "    <tr>\n",
       "      <th>0</th>\n",
       "      <td>Amazfit</td>\n",
       "      <td>1.476190</td>\n",
       "    </tr>\n",
       "    <tr>\n",
       "      <th>1</th>\n",
       "      <td>Xiaomi</td>\n",
       "      <td>1.682796</td>\n",
       "    </tr>\n",
       "    <tr>\n",
       "      <th>2</th>\n",
       "      <td>Huawei</td>\n",
       "      <td>1.703364</td>\n",
       "    </tr>\n",
       "    <tr>\n",
       "      <th>3</th>\n",
       "      <td>Garmin</td>\n",
       "      <td>1.708049</td>\n",
       "    </tr>\n",
       "    <tr>\n",
       "      <th>4</th>\n",
       "      <td>Apple Watch</td>\n",
       "      <td>2.000000</td>\n",
       "    </tr>\n",
       "    <tr>\n",
       "      <th>5</th>\n",
       "      <td>Samsung</td>\n",
       "      <td>2.106579</td>\n",
       "    </tr>\n",
       "    <tr>\n",
       "      <th>6</th>\n",
       "      <td>MyFitnessPal</td>\n",
       "      <td>3.600664</td>\n",
       "    </tr>\n",
       "  </tbody>\n",
       "</table>\n",
       "</div>"
      ],
      "text/plain": [
       "  competitors_mentioned    rating\n",
       "0               Amazfit  1.476190\n",
       "1                Xiaomi  1.682796\n",
       "2                Huawei  1.703364\n",
       "3                Garmin  1.708049\n",
       "4           Apple Watch  2.000000\n",
       "5               Samsung  2.106579\n",
       "6          MyFitnessPal  3.600664"
      ]
     },
     "execution_count": 21,
     "metadata": {},
     "output_type": "execute_result"
    }
   ],
   "source": [
    "print(\"\\033[1mAverage Rating of Reviews When a Competitor is Mentioned:\\033[0m\")\n",
    "pd.DataFrame(avg_rating_by_competitor.reset_index())"
   ]
  }
 ],
 "metadata": {
  "kernelspec": {
   "display_name": "Python 3 (ipykernel)",
   "language": "python",
   "name": "python3"
  },
  "language_info": {
   "codemirror_mode": {
    "name": "ipython",
    "version": 3
   },
   "file_extension": ".py",
   "mimetype": "text/x-python",
   "name": "python",
   "nbconvert_exporter": "python",
   "pygments_lexer": "ipython3",
   "version": "3.12.7"
  }
 },
 "nbformat": 4,
 "nbformat_minor": 5
}
